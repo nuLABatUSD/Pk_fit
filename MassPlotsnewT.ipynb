{
 "cells": [
  {
   "cell_type": "code",
   "execution_count": 1,
   "id": "aab90be3-d67b-438f-a520-6ba84d65f9c8",
   "metadata": {},
   "outputs": [],
   "source": [
    "import numpy as np\n",
    "import matplotlib.pyplot as plt\n",
    "import nufit\n",
    "from scipy.interpolate import CubicSpline"
   ]
  },
  {
   "cell_type": "code",
   "execution_count": 2,
   "id": "bec263ef-f9fa-40d1-9199-4457af9f6dc6",
   "metadata": {},
   "outputs": [],
   "source": [
    "file_names = [\n",
    "    \"RMFK_Results/mass-300-life-0.010.npz\", \n",
    "    \"RMFK_Results/mass-300-life-0.013.npz\",\n",
    "    \"RMFK_Results/mass-300-life-0.017.npz\",\n",
    "    \"RMFK_Results/mass-300-life-0.022.npz\",\n",
    "    \"RMFK_Results/mass-300-life-0.030.npz\",\n",
    "    \"RMFK_Results/mass-300-life-0.040.npz\",\n",
    "    \"RMFK_Results/mass-300-life-0.053.npz\",\n",
    "    \"RMFK_Results/mass-300-life-0.070.npz\",\n",
    "    \"RMFK_Results/mass-300-life-0.093.npz\",\n",
    "    \"RMFK_Results/mass-300-life-0.122.npz\",\n",
    "    \"RMFK_Results/mass-300-life-0.166.npz\",\n",
    "    \"RMFK_Results/mass-300-life-0.221.npz\",\n",
    "    \"RMFK_Results/mass-300-life-0.282.npz\",\n",
    "    \"RMFK_Results/mass-300-life-0.373.npz\",\n",
    "    \"RMFK_Results/mass-300-life-0.517.npz\",\n",
    "    \"RMFK_Results/mass-300-life-0.664.npz\",\n",
    "    \"RMFK_Results/mass-300-life-0.912.npz\",\n",
    "    \"RMFK_Results/mass-300-life-1.236.npz\",\n",
    "    \"RMFK_Results/mass-300-life-1.495.npz\",\n",
    "    \"RMFK_Results/mass-300-life-1.846.npz\"\n",
    "]"
   ]
  },
  {
   "cell_type": "code",
   "execution_count": 3,
   "id": "4d09c0ba-a894-497c-a2d1-1faa729125a9",
   "metadata": {},
   "outputs": [
    {
     "data": {
      "image/png": "[encoded data removed]",
      "text/plain": [
       "<Figure size 640x480 with 1 Axes>"
      ]
     },
     "metadata": {},
     "output_type": "display_data"
    }
   ],
   "source": [
    "masses = np.linspace(0.05, 0.45, 20)\n",
    "T, N, B, oneoverd = nufit.v_masses_sterile(0.1, True, file_names[0], \"test\", make_plot=True, sum_mnu_filename=True, coeffs = True)\n",
    "ster_model = np.load(\"test312.npz\", allow_pickle = True)"
   ]
  },
  {
   "cell_type": "code",
   "execution_count": 4,
   "id": "89bae345-0e95-4e20-a0a8-d4a5d90ac7ed",
   "metadata": {},
   "outputs": [],
   "source": [
    "name = f\"{0.1}meV\"\n",
    "nufit.v_masses_std(0.1, True, name)\n",
    "std_model = np.load(f\"{name}.npz\", allow_pickle=True)"
   ]
  },
  {
   "cell_type": "code",
   "execution_count": 5,
   "id": "38724df0-35bb-4db6-b275-e352c751de06",
   "metadata": {},
   "outputs": [
    {
     "name": "stdout",
     "output_type": "stream",
     "text": [
      "1.1236180904522612\n"
     ]
    }
   ],
   "source": [
    "print(T)"
   ]
  },
  {
   "cell_type": "code",
   "execution_count": 6,
   "id": "1748a6ab-4245-4dcd-b0ea-d6b0c12655b8",
   "metadata": {},
   "outputs": [],
   "source": [
    "masses = np.linspace(0.05, 0.45, 20)\n",
    "LCDM = np.load(\"LambdaCDM.npz\", allow_pickle=True)\n",
    "\n",
    "def mps_diff_ster(mass_val, input_file, t = None):\n",
    "    name = f\"small_mnu:{mass_val}\"\n",
    "\n",
    "    if t is None:\n",
    "        T, N, B, oneoverd = nufit.v_masses_sterile(mass_val, True, input_file, name, coeffs=True)\n",
    "\n",
    "    else: \n",
    "        T, N, B, oneoverd = nufit.v_masses_sterile(mass_val, True, input_file, name, coeffs=True, parameter = t)\n",
    "\n",
    "    nu_out = np.load(f\"{name}.npz\", allow_pickle=True)\n",
    "    return nu_out, T, N, B, oneoverd\n",
    "\n",
    "def mps_diff_std(mass_val, plot):\n",
    "    name = f\"{mass_val}meV\"\n",
    "    nufit.v_masses_std(mass_val, True, name)\n",
    "    nu_mass_val = np.load(f\"{name}.npz\", allow_pickle=True)\n",
    "\n",
    "    if plot == True:\n",
    "        plt.figure()\n",
    "        plt.semilogx(nu_mass_val['k_n_array'], (nu_mass_val['Pk_n_array']-LCDM['Pk_LambdaCDM'])/LCDM['Pk_LambdaCDM'])\n",
    "        plt.xlabel(r'$k \\,\\,\\,\\, [h/\\mathrm{Mpc}]$')\n",
    "        plt.ylabel(r'$\\Delta P / P$')\n",
    "        plt.title(f\"Matter Power Spectrum Differences of Lambda-CDM with $M_ν$ = {mass_val*1000} meV and $M_ν$ = 0\")\n",
    "\n",
    "    return nu_mass_val"
   ]
  },
  {
   "cell_type": "code",
   "execution_count": null,
   "id": "25e81de1-66ad-4d3a-b25b-5df34bd6bb53",
   "metadata": {},
   "outputs": [],
   "source": [
    "mass_ster = np.zeros(len(masses))\n",
    "deltap_ster = np.zeros(len(masses))\n",
    "t_vals = np.zeros(len(masses))\n",
    "n_vals = np.zeros(len(masses))\n",
    "b_vals = np.zeros(len(masses))\n",
    "oned = np.zeros(len(masses)) \n",
    "input_file = \"RMFK_Results/mass-300-life-0.010.npz\"\n",
    "\n",
    "for i in range(len(masses)):\n",
    "    val = masses[i]\n",
    "    file, T, N, B, oneoverd  = mps_diff_ster(val, input_file)\n",
    "\n",
    "    mass_ster[i] = file['sum_nu']\n",
    "    deltap_ster[i] = ((file['Pk_n_array'][-1]-LCDM['Pk_LambdaCDM'][-1])/LCDM['Pk_LambdaCDM'][-1])\n",
    "    t_vals[i] = T\n",
    "    n_vals[i] = N\n",
    "    b_vals[i] = B\n",
    "    oned[i] = oneoverd"
   ]
  },
  {
   "cell_type": "code",
   "execution_count": null,
   "id": "799c3f6d-b0db-45b9-a3a7-5ca9efd60f48",
   "metadata": {},
   "outputs": [],
   "source": [
    "mass_std = np.zeros(len(masses))\n",
    "deltap_std = np.zeros(len(masses))\n",
    "\n",
    "for i in range(len(masses)):\n",
    "    mass_val = masses[i]\n",
    "    std_file = mps_diff_std(mass_val, False)\n",
    "    \n",
    "    mass_std[i] = std_file['sum_nu']\n",
    "    deltap_std[i] = ((std_file['Pk_n_array'][-1]-LCDM['Pk_LambdaCDM'][-1])/LCDM['Pk_LambdaCDM'][-1])"
   ]
  },
  {
   "cell_type": "code",
   "execution_count": null,
   "id": "36544681-d8b0-4fbe-902c-8a5ffcbf4342",
   "metadata": {},
   "outputs": [],
   "source": [
    "def cubic_spline(x, y, plot):\n",
    "    f = CubicSpline(x, y, bc_type='natural')\n",
    "    x_new = np.linspace(x[0], x[-1], 100)\n",
    "    y_new = f(x_new)\n",
    "\n",
    "    if plot == True:\n",
    "        plt.plot(x_new, y_new, 'black')\n",
    "        plt.plot(x, y, 'bo')\n",
    "        plt.xlabel('Standard $M_ν$')\n",
    "        plt.ylabel('Sterile $M_ν$')\n",
    "        plt.show()\n",
    "    \n",
    "    return f "
   ]
  },
  {
   "cell_type": "code",
   "execution_count": null,
   "id": "e0d16a0f-18d9-4038-b992-bcf23c5539d9",
   "metadata": {},
   "outputs": [],
   "source": [
    "std_fun = cubic_spline(np.flip(deltap_std), np.flip(mass_std), False)\n",
    "stdm_from_sterp = np.zeros(len(deltap_ster))\n",
    "\n",
    "for i in range(len(deltap_ster)):\n",
    "    stdm_from_sterp[i] = std_fun(deltap_ster[i])"
   ]
  },
  {
   "cell_type": "code",
   "execution_count": null,
   "id": "b0dd0f46-5cb2-4d94-808c-e9d75fe06f1c",
   "metadata": {},
   "outputs": [],
   "source": [
    "plt.figure()\n",
    "plt.plot(stdm_from_sterp, mass_ster)  \n",
    "plt.xlabel(\"Standard Mass\")\n",
    "plt.ylabel(\"Sterile Mass\")"
   ]
  },
  {
   "cell_type": "code",
   "execution_count": null,
   "id": "177903c4-96ff-4f17-b35e-2867d58a1f45",
   "metadata": {},
   "outputs": [],
   "source": [
    "new_t = t_vals[0] * 1.1\n",
    "mass_ster10 = np.zeros(len(masses))\n",
    "deltap_ster10 = np.zeros(len(masses))\n",
    "\n",
    "for i in range(len(masses)):\n",
    "    file, t, n, b, d = mps_diff_ster(masses[i], file_names[0], t = new_t)\n",
    "    mass_ster10[i] = file['sum_nu']\n",
    "    deltap_ster10[i] = ((file['Pk_n_array'][-1]-LCDM['Pk_LambdaCDM'][-1])/LCDM['Pk_LambdaCDM'][-1])"
   ]
  },
  {
   "cell_type": "code",
   "execution_count": null,
   "id": "e9cf3b82-c093-4025-83d0-53114d9cc9d3",
   "metadata": {},
   "outputs": [],
   "source": [
    "stdm_from_sterp10 = np.zeros(len(deltap_ster10))\n",
    "\n",
    "for i in range(len(deltap_ster10)):\n",
    "    stdm_from_sterp10[i] = std_fun(deltap_ster10[i])"
   ]
  },
  {
   "cell_type": "code",
   "execution_count": null,
   "id": "10df1096-1d2c-4b6c-a993-03a8c4d6db8c",
   "metadata": {},
   "outputs": [],
   "source": [
    "plt.figure()\n",
    "plt.plot(stdm_from_sterp10, mass_ster) \n",
    "plt.xlabel(\"Standard Mass\")\n",
    "plt.ylabel(\"Sterile Mass\")"
   ]
  },
  {
   "cell_type": "code",
   "execution_count": null,
   "id": "ef19e458-bced-4bec-91e7-bee4c89732e8",
   "metadata": {},
   "outputs": [],
   "source": [
    "new_t2 = t_vals[0] * 1.9\n",
    "mass_ster90 = np.zeros(len(masses))\n",
    "deltap_ster90 = np.zeros(len(masses))\n",
    "\n",
    "for i in range(len(masses)):\n",
    "    file, t, n, b, d = mps_diff_ster(masses[i], file_names[0], t = new_t2)\n",
    "    mass_ster90[i] = file['sum_nu']\n",
    "    deltap_ster90[i] = ((file['Pk_n_array'][-1]-LCDM['Pk_LambdaCDM'][-1])/LCDM['Pk_LambdaCDM'][-1])"
   ]
  },
  {
   "cell_type": "code",
   "execution_count": null,
   "id": "126d6cbc-b24f-4f07-8e2b-a76c1d8331fa",
   "metadata": {},
   "outputs": [],
   "source": [
    "stdm_from_sterp90 = np.zeros(len(deltap_ster90))\n",
    "\n",
    "for i in range(len(deltap_ster90)):\n",
    "    stdm_from_sterp90[i] = std_fun(deltap_ster90[i])"
   ]
  },
  {
   "cell_type": "code",
   "execution_count": null,
   "id": "b5f6085d-df54-4c8f-bf19-153bf32adcd9",
   "metadata": {},
   "outputs": [],
   "source": [
    "plt.figure()\n",
    "plt.plot(stdm_from_sterp90, mass_ster) \n",
    "plt.xlabel(\"Standard Mass\")\n",
    "plt.ylabel(\"Sterile Mass\")"
   ]
  },
  {
   "cell_type": "code",
   "execution_count": null,
   "id": "cec8dd68-0f01-451d-af9d-740e4e51078c",
   "metadata": {},
   "outputs": [],
   "source": [
    "short_lived = \"RMFK_Results/mass-300-life-0.030.npz\"\n",
    "long_lived = \"RMFK_Results/mass-300-life-0.912.npz\""
   ]
  },
  {
   "cell_type": "code",
   "execution_count": null,
   "id": "8fc783d0-9d21-4790-8c45-837d32fc6f20",
   "metadata": {},
   "outputs": [],
   "source": [
    "shortmass_ster = np.zeros(len(masses))\n",
    "shortdeltap_ster = np.zeros(len(masses))\n",
    "short_t_val = 0\n",
    "\n",
    "for i in range(len(masses)):\n",
    "    file, t, n, b, d = mps_diff_ster(masses[i], short_lived)\n",
    "    shortmass_ster[i] = file['sum_nu']\n",
    "    shortdeltap_ster[i] = ((file['Pk_n_array'][-1]-LCDM['Pk_LambdaCDM'][-1])/LCDM['Pk_LambdaCDM'][-1])\n",
    "    short_t_val = t\n",
    "\n",
    "short_new_t = t_val * 1.1\n",
    "print(short_new_t)"
   ]
  },
  {
   "cell_type": "code",
   "execution_count": null,
   "id": "f58395f7-d6db-4764-a6c4-05271f3f1fef",
   "metadata": {},
   "outputs": [],
   "source": [
    "short_stdm = np.zeros(len(shortdeltap_ster))\n",
    "\n",
    "for i in range(len(shortdeltap_ster)):\n",
    "    short_stdm[i] = std_fun(shortdeltap_ster[i])"
   ]
  },
  {
   "cell_type": "code",
   "execution_count": null,
   "id": "5a0d0244-9839-4076-b589-9bf6bf44df7e",
   "metadata": {},
   "outputs": [],
   "source": [
    "plt.figure()\n",
    "plt.plot(short_stdm, mass_ster) \n",
    "plt.xlabel(\"Standard Model\")\n",
    "plt.ylabel(\"Sterile Model\")\n",
    "plt.title(\"Short Lived Model\")"
   ]
  },
  {
   "cell_type": "code",
   "execution_count": null,
   "id": "d21fccd4-0416-43a6-94ed-3ce2f198839b",
   "metadata": {},
   "outputs": [],
   "source": [
    "shortmass_ster10 = np.zeros(len(masses))\n",
    "shortdeltap_ster10 = np.zeros(len(masses))\n",
    "\n",
    "for i in range(len(masses)):\n",
    "    file, t, n, b, d = mps_diff_ster(masses[i], short_lived, t = short_new_t)\n",
    "    shortmass_ster10[i] = file['sum_nu']\n",
    "    shortdeltap_ster10[i] = ((file['Pk_n_array'][-1]-LCDM['Pk_LambdaCDM'][-1])/LCDM['Pk_LambdaCDM'][-1])"
   ]
  },
  {
   "cell_type": "code",
   "execution_count": null,
   "id": "942d4ae3-4ec0-4a60-ba0a-57423a0e2652",
   "metadata": {},
   "outputs": [],
   "source": [
    "short_stdm_10 = np.zeros(len(shortdeltap_ster10))\n",
    "\n",
    "for i in range(len(shortdeltap_ster10)):\n",
    "    short_stdm_10[i] = std_fun(shortdeltap_ster10[i])"
   ]
  },
  {
   "cell_type": "code",
   "execution_count": null,
   "id": "be87fa6b-9fd8-432d-bd15-0b633fb768db",
   "metadata": {},
   "outputs": [],
   "source": [
    "plt.figure()\n",
    "plt.plot(short_stdm_10, mass_ster) \n",
    "plt.xlabel(\"Standard Model\")\n",
    "plt.ylabel(\"Sterile Model\")\n",
    "plt.title(\"Short Lived Model (T 10% Larger)\")"
   ]
  },
  {
   "cell_type": "code",
   "execution_count": null,
   "id": "02e3b328-8014-4501-bcdd-118311743e31",
   "metadata": {},
   "outputs": [],
   "source": [
    "short_new_t2 = t_val * 1.9\n",
    "print(short_new_t2)\n",
    "\n",
    "shortmass_ster90 = np.zeros(len(masses))\n",
    "shortdeltap_ster90 = np.zeros(len(masses))\n",
    "\n",
    "for i in range(len(masses)):\n",
    "    file, t, n, b, d = mps_diff_ster(masses[i], short_lived, t = short_new_t2)\n",
    "    shortmass_ster90[i] = file['sum_nu']\n",
    "    shortdeltap_ster90[i] = ((file['Pk_n_array'][-1]-LCDM['Pk_LambdaCDM'][-1])/LCDM['Pk_LambdaCDM'][-1])\n",
    "\n",
    "short_stdm_90 = np.zeros(len(shortdeltap_ster90))\n",
    "\n",
    "\n",
    "for i in range(len(shortdeltap_ster90)):\n",
    "    short_stdm_90[i] = std_fun(shortdeltap_ster90[i])\n",
    "\n",
    "\n",
    "plt.figure()\n",
    "plt.plot(short_stdm_90, mass_ster) \n",
    "plt.xlabel(\"Standard Model\")\n",
    "plt.ylabel(\"Sterile Model\")\n",
    "plt.title(\"Short Lived Model (T 90% Larger)\")"
   ]
  },
  {
   "cell_type": "code",
   "execution_count": null,
   "id": "2a065efe-8c2a-460c-97af-a35b45da3192",
   "metadata": {},
   "outputs": [],
   "source": [
    "longmass_ster = np.zeros(len(masses))\n",
    "longdeltap_ster = np.zeros(len(masses))\n",
    "long_t_val = 0\n",
    "\n",
    "for i in range(len(masses)):\n",
    "    file, t, n, b, d = mps_diff_ster(masses[i], long_lived)\n",
    "    longmass_ster[i] = file['sum_nu']\n",
    "    longdeltap_ster[i] = ((file['Pk_n_array'][-1]-LCDM['Pk_LambdaCDM'][-1])/LCDM['Pk_LambdaCDM'][-1])\n",
    "    long_t_val = t\n",
    "\n",
    "long_stdm = np.zeros(len(longdeltap_ster))\n",
    "\n",
    "for i in range(len(longdeltap_ster)):\n",
    "    long_stdm[i] = std_fun(longdeltap_ster[i])\n",
    "\n",
    "plt.figure()\n",
    "plt.plot(long_stdm, mass_ster) \n",
    "plt.xlabel(\"Standard Model\")\n",
    "plt.ylabel(\"Sterile Model\")\n",
    "plt.title(\"Long Lived Model\")"
   ]
  },
  {
   "cell_type": "code",
   "execution_count": null,
   "id": "a2e8f3de-1fde-4ce9-a14e-5133904b7579",
   "metadata": {},
   "outputs": [],
   "source": [
    "long_new_t = long_t_val * 1.1\n",
    "print(long_new_t)\n",
    "\n",
    "longmass_ster10 = np.zeros(len(masses))\n",
    "longdeltap_ster10 = np.zeros(len(masses))\n",
    "\n",
    "for i in range(len(masses)):\n",
    "    file, t, n, b, d = mps_diff_ster(masses[i], long_lived, t = long_new_t)\n",
    "    longmass_ster10[i] = file['sum_nu']\n",
    "    longdeltap_ster10[i] = ((file['Pk_n_array'][-1]-LCDM['Pk_LambdaCDM'][-1])/LCDM['Pk_LambdaCDM'][-1])\n",
    "\n",
    "long_stdm10 = np.zeros(len(longdeltap_ster10))\n",
    "\n",
    "for i in range(len(longdeltap_ster10)):\n",
    "    long_stdm10[i] = std_fun(longdeltap_ster10[i])\n",
    "\n",
    "plt.figure()\n",
    "plt.plot(long_stdm10, mass_ster) \n",
    "plt.xlabel(\"Standard Model\")\n",
    "plt.ylabel(\"Sterile Model\")\n",
    "plt.title(\"Long Lived Model (T 10% Larger)\")"
   ]
  },
  {
   "cell_type": "code",
   "execution_count": null,
   "id": "868e1807-8a27-4d42-a378-514bb99c145b",
   "metadata": {},
   "outputs": [],
   "source": [
    "long_new_t2 = long_t_val * 1.9\n",
    "print(long_new_t2)\n",
    "\n",
    "longmass_ster90 = np.zeros(len(masses))\n",
    "longdeltap_ster90 = np.zeros(len(masses))\n",
    "\n",
    "for i in range(len(masses)):\n",
    "    file, t, n, b, d = mps_diff_ster(masses[i], long_lived, t = long_new_t2)\n",
    "    longmass_ster90[i] = file['sum_nu']\n",
    "    longdeltap_ster90[i] = ((file['Pk_n_array'][-1]-LCDM['Pk_LambdaCDM'][-1])/LCDM['Pk_LambdaCDM'][-1])\n",
    "\n",
    "long_stdm90 = np.zeros(len(longdeltap_ster90))\n",
    "\n",
    "for i in range(len(longdeltap_ster90)):\n",
    "    long_stdm90[i] = std_fun(longdeltap_ster90[i])\n",
    "\n",
    "plt.figure()\n",
    "plt.plot(long_stdm90, mass_ster) \n",
    "plt.xlabel(\"Standard Model\")\n",
    "plt.ylabel(\"Sterile Model\")\n",
    "plt.title(\"Long Lived Model (T 90% Larger)\")"
   ]
  }
 ],
 "metadata": {
  "kernelspec": {
   "display_name": "Python 3 (ipykernel)",
   "language": "python",
   "name": "python3"
  },
  "language_info": {
   "codemirror_mode": {
    "name": "ipython",
    "version": 3
   },
   "file_extension": ".py",
   "mimetype": "text/x-python",
   "name": "python",
   "nbconvert_exporter": "python",
   "pygments_lexer": "ipython3",
   "version": "3.12.7"
  }
 },
 "nbformat": 4,
 "nbformat_minor": 5
}
