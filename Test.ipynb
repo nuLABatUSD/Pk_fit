{
 "cells": [
  {
   "cell_type": "code",
   "execution_count": 1,
   "id": "fb67b3e8-1c8b-4313-9e73-1b255ed9bcdb",
   "metadata": {},
   "outputs": [],
   "source": [
    "import numpy as np\n",
    "import matplotlib.pyplot as plt\n",
    "import nufit\n",
    "from scipy.interpolate import CubicSpline"
   ]
  },
  {
   "cell_type": "code",
   "execution_count": 2,
   "id": "4570403c-1139-43ff-a43d-5dc541c062e4",
   "metadata": {},
   "outputs": [],
   "source": [
    "file_names = [\n",
    "    \"RMFK_Results/mass-300-life-0.010.npz\", \n",
    "    \"RMFK_Results/mass-300-life-0.013.npz\",\n",
    "    \"RMFK_Results/mass-300-life-0.017.npz\",\n",
    "    \"RMFK_Results/mass-300-life-0.022.npz\",\n",
    "    \"RMFK_Results/mass-300-life-0.030.npz\",\n",
    "    \"RMFK_Results/mass-300-life-0.040.npz\",\n",
    "    \"RMFK_Results/mass-300-life-0.053.npz\",\n",
    "    \"RMFK_Results/mass-300-life-0.070.npz\",\n",
    "    \"RMFK_Results/mass-300-life-0.093.npz\",\n",
    "    \"RMFK_Results/mass-300-life-0.122.npz\",\n",
    "    \"RMFK_Results/mass-300-life-0.166.npz\",\n",
    "    \"RMFK_Results/mass-300-life-0.221.npz\",\n",
    "    \"RMFK_Results/mass-300-life-0.282.npz\",\n",
    "    \"RMFK_Results/mass-300-life-0.373.npz\",\n",
    "    \"RMFK_Results/mass-300-life-0.517.npz\",\n",
    "    \"RMFK_Results/mass-300-life-0.664.npz\",\n",
    "    \"RMFK_Results/mass-300-life-0.912.npz\",\n",
    "    \"RMFK_Results/mass-300-life-1.236.npz\",\n",
    "    \"RMFK_Results/mass-300-life-1.495.npz\",\n",
    "    \"RMFK_Results/mass-300-life-1.846.npz\"\n",
    "]"
   ]
  },
  {
   "cell_type": "code",
   "execution_count": 3,
   "id": "b7ef0757-2384-4317-96c9-a215c2c52d83",
   "metadata": {},
   "outputs": [],
   "source": [
    "masses = np.linspace(0.05, 0.45, 20)\n",
    "LCDM = np.load(\"LambdaCDM.npz\", allow_pickle=True)\n",
    "\n",
    "def mps_diff_ster(mass_val, input_file, t = None):\n",
    "    name = f\"small_mnu:{mass_val}\"\n",
    "\n",
    "    if t is None:\n",
    "        T, N, B, oneoverd = nufit.v_masses_sterile(mass_val, True, input_file, name, coeffs=True)\n",
    "\n",
    "    else: \n",
    "        T, N, B, oneoverd = nufit.v_masses_sterile(mass_val, True, input_file, name, coeffs=True, parameter = t)\n",
    "\n",
    "    nu_out = np.load(f\"{name}.npz\", allow_pickle=True)\n",
    "    return nu_out, T, N, B, oneoverd\n",
    "\n",
    "def mps_diff_std(mass_val, plot):\n",
    "    name = f\"{mass_val}meV\"\n",
    "    nufit.v_masses_std(mass_val, True, name)\n",
    "    nu_mass_val = np.load(f\"{name}.npz\", allow_pickle=True)\n",
    "\n",
    "    if plot == True:\n",
    "        plt.figure()\n",
    "        plt.semilogx(nu_mass_val['k_n_array'], (nu_mass_val['Pk_n_array']-LCDM['Pk_LambdaCDM'])/LCDM['Pk_LambdaCDM'])\n",
    "        plt.xlabel(r'$k \\,\\,\\,\\, [h/\\mathrm{Mpc}]$')\n",
    "        plt.ylabel(r'$\\Delta P / P$')\n",
    "        plt.title(f\"Matter Power Spectrum Differences of Lambda-CDM with $M_ν$ = {mass_val*1000} meV and $M_ν$ = 0\")\n",
    "\n",
    "    return nu_mass_val"
   ]
  },
  {
   "cell_type": "code",
   "execution_count": 4,
   "id": "904bb1a4-d483-41e1-a853-e4a55fda3e01",
   "metadata": {},
   "outputs": [],
   "source": [
    "new_t = 2.2\n",
    "model, t, n, b, d = mps_diff_ster(0.1, file_names[0], t = new_t)"
   ]
  },
  {
   "cell_type": "code",
   "execution_count": 5,
   "id": "d79a0e96-4344-45eb-88f5-d4f784213804",
   "metadata": {},
   "outputs": [
    {
     "name": "stdout",
     "output_type": "stream",
     "text": [
      "2.19978 0.06819395589484882 0.0 1.2\n"
     ]
    }
   ],
   "source": [
    "print(t, n, b, d)"
   ]
  },
  {
   "cell_type": "code",
   "execution_count": 6,
   "id": "764032ec-a57d-49fb-9641-3958bbfccb84",
   "metadata": {},
   "outputs": [
    {
     "data": {
      "text/plain": [
       "3.040085870954657"
      ]
     },
     "execution_count": 6,
     "metadata": {},
     "output_type": "execute_result"
    }
   ],
   "source": [
    "model['n_results'].item()['Neff']"
   ]
  },
  {
   "cell_type": "code",
   "execution_count": 7,
   "id": "ecc5c522-2594-448a-aaf1-0d366da55ba4",
   "metadata": {},
   "outputs": [
    {
     "data": {
      "text/plain": [
       "array(3.04017517)"
      ]
     },
     "execution_count": 7,
     "metadata": {},
     "output_type": "execute_result"
    }
   ],
   "source": [
    "data = np.load('RMFK_Results/mass-300-life-0.010.npz')\n",
    "data['neff']"
   ]
  },
  {
   "cell_type": "code",
   "execution_count": null,
   "id": "3c9cc504-d410-4907-b757-5444ef98bba8",
   "metadata": {},
   "outputs": [],
   "source": []
  }
 ],
 "metadata": {
  "kernelspec": {
   "display_name": "Python 3 (ipykernel)",
   "language": "python",
   "name": "python3"
  },
  "language_info": {
   "codemirror_mode": {
    "name": "ipython",
    "version": 3
   },
   "file_extension": ".py",
   "mimetype": "text/x-python",
   "name": "python",
   "nbconvert_exporter": "python",
   "pygments_lexer": "ipython3",
   "version": "3.12.7"
  }
 },
 "nbformat": 4,
 "nbformat_minor": 5
}
