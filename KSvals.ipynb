{
 "cells": [
  {
   "cell_type": "code",
   "execution_count": 1,
   "id": "920bdf7c-aac1-4c99-88a7-668ba1120c71",
   "metadata": {},
   "outputs": [],
   "source": [
    "import numpy as np\n",
    "import matplotlib.pyplot as plt\n",
    "import nufit\n",
    "from scipy.optimize import curve_fit\n",
    "from scipy.integrate import quad\n",
    "from scipy.special import zeta"
   ]
  },
  {
   "cell_type": "code",
   "execution_count": 2,
   "id": "6bbe9012-5bea-4d3b-9bcb-23fd2f4276bf",
   "metadata": {},
   "outputs": [],
   "source": [
    "def load_data(file_name):\n",
    "    data = np.load(\"RMFK_Results/\" + file_name, allow_pickle = True)\n",
    "    eps = data['e'][-1]\n",
    "    f = data['fe'][-1]\n",
    "    cdf = nufit.cdf_faster(eps, f)\n",
    "    \n",
    "    return eps, f, cdf"
   ]
  },
  {
   "cell_type": "code",
   "execution_count": 3,
   "id": "179cd86b-3ab7-4fb7-b2a4-fa7ddc6a41fe",
   "metadata": {},
   "outputs": [],
   "source": [
    "zeta3 = zeta(3)\n",
    "T = 1.2\n",
    "b_prime = 0\n",
    "\n",
    "def norm(T, b_prime):\n",
    "    result = (T**3 * (3/2) * zeta3) + b_prime\n",
    "    return result\n",
    "\n",
    "def cdf_fit(x, T, b_prime):\n",
    "\n",
    "    def thermal(eps_cut, T):\n",
    "        return (eps_cut**2 / np.exp(eps_cut/T) + 1)\n",
    "        \n",
    "    num, err = quad(lambda eps_cut: thermal(eps_cut, T), 0, x)\n",
    "    denom = norm(T, b_prime)\n",
    "\n",
    "    return num/denom"
   ]
  },
  {
   "cell_type": "code",
   "execution_count": 13,
   "id": "730a4ee9-df36-4000-8c09-ebee6aaf7498",
   "metadata": {},
   "outputs": [],
   "source": [
    "T_values = np.linspace(1.2, 1.6, 200)\n",
    "B_values = np.linspace(0, 2, 200)\n",
    "\n",
    "def find_ks(eps, cdf_data, T_values, B_values):\n",
    "    ks = np.zeros((len(T_values), len(B_values)))\n",
    "                  \n",
    "    for i, t in enumerate(T_values):\n",
    "        for j, b in enumerate(B_values):\n",
    "            cdf_fit_model = [cdf_fit(x, t, b) for x in eps]\n",
    "            ks_val  = np.max(np.abs(cdf_fit_model - cdf_data))\n",
    "            ks[i, j] = ks_val\n",
    "\n",
    "    min_index = np.unravel_index(np.argmin(ks), ks.shape)\n",
    "    best_t = T_values[min_index[0]]\n",
    "    best_b = B_values[min_index[1]]\n",
    "\n",
    "    return best_t, best_b"
   ]
  },
  {
   "cell_type": "code",
   "execution_count": 5,
   "id": "83beb425-3aab-4d5d-8cee-d9e46a946350",
   "metadata": {},
   "outputs": [],
   "source": [
    "file_names = [\n",
    "    \"mass-300-life-0.010.npz\", \n",
    "    \"mass-300-life-0.010.npz\",\n",
    "    \"mass-300-life-0.013.npz\",\n",
    "    \"mass-300-life-0.017.npz\",\n",
    "    \"mass-300-life-0.022.npz\",\n",
    "    \"mass-300-life-0.030.npz\",\n",
    "    \"mass-300-life-0.040.npz\",\n",
    "    \"mass-300-life-0.053.npz\",\n",
    "    \"mass-300-life-0.070.npz\",\n",
    "    \"mass-300-life-0.093.npz\",\n",
    "    \"mass-300-life-0.122.npz\",\n",
    "    \"mass-300-life-0.166.npz\",\n",
    "    \"mass-300-life-0.221.npz\",\n",
    "    \"mass-300-life-0.282.npz\",\n",
    "    \"mass-300-life-0.373.npz\",\n",
    "    \"mass-300-life-0.517.npz\",\n",
    "    \"mass-300-life-0.664.npz\",\n",
    "    \"mass-300-life-0.912.npz\",\n",
    "    \"mass-300-life-1.236.npz\",\n",
    "    \"mass-300-life-1.495.npz\",\n",
    "    \"mass-300-life-1.846.npz\"\n",
    "]"
   ]
  },
  {
   "cell_type": "code",
   "execution_count": null,
   "id": "7d782529-82b4-4d8d-bb8d-55c5a89deffa",
   "metadata": {},
   "outputs": [
    {
     "name": "stdout",
     "output_type": "stream",
     "text": [
      "file: mass-300-life-0.010.npz - best T: 1.6, best B prime: 2.0\n",
      "file: mass-300-life-0.010.npz - best T: 1.6, best B prime: 2.0\n",
      "file: mass-300-life-0.013.npz - best T: 1.6, best B prime: 2.0\n",
      "file: mass-300-life-0.017.npz - best T: 1.6, best B prime: 2.0\n",
      "file: mass-300-life-0.022.npz - best T: 1.6, best B prime: 2.0\n",
      "file: mass-300-life-0.030.npz - best T: 1.6, best B prime: 2.0\n"
     ]
    }
   ],
   "source": [
    "for name in file_names:\n",
    "    eps_long, f_long, cdf_long = load_data(file_names[0])\n",
    "    eps = eps_long[:11]\n",
    "    f = f_long[:11]\n",
    "    cdf = cdf_long[:11]\n",
    "    cdf_fit_model = [cdf_fit(x, T, b_prime) for x in eps]\n",
    "    best_t, best_b = find_ks(eps, cdf, T_values, B_values)\n",
    "    print(f\"file: {name} - best T: {best_t}, best B prime: {best_b}\")"
   ]
  },
  {
   "cell_type": "code",
   "execution_count": null,
   "id": "5f27a9d0-8f42-4a54-b870-58020799b029",
   "metadata": {},
   "outputs": [],
   "source": []
  }
 ],
 "metadata": {
  "kernelspec": {
   "display_name": "Python 3 (ipykernel)",
   "language": "python",
   "name": "python3"
  },
  "language_info": {
   "codemirror_mode": {
    "name": "ipython",
    "version": 3
   },
   "file_extension": ".py",
   "mimetype": "text/x-python",
   "name": "python",
   "nbconvert_exporter": "python",
   "pygments_lexer": "ipython3",
   "version": "3.12.7"
  }
 },
 "nbformat": 4,
 "nbformat_minor": 5
}
